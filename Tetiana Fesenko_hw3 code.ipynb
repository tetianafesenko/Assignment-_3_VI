{
 "cells": [
  {
   "attachments": {},
   "cell_type": "markdown",
   "metadata": {},
   "source": [
    "## Problem 3: [25 pts] Linear Regression and Logistic Regression"
   ]
  },
  {
   "attachments": {},
   "cell_type": "markdown",
   "metadata": {},
   "source": [
    "### This coding homework is adapted from an assignment by Alex Yun for the AI for Clinician Champions course."
   ]
  },
  {
   "attachments": {},
   "cell_type": "markdown",
   "metadata": {},
   "source": [
    "In this coding homework, you will learn some basic data visualization and preprocessing techniques using Python and how to apply regression models to a\n",
    "medical cost data set in two contexts: (1) regression task and (2) classification task. The data set we consider consists of the following variables or features:\n",
    "1. Age: age of the primary beneficiary\n",
    "2. Sex: sex of the beneficiary (male or female)\n",
    "3. BMI: body mass index; a value derived from the mass and height of the beneficiary\n",
    "4. Children: number of children covered by the insurance\n",
    "5. Smoker: whether the beneficiary smokes or not (yes or no)\n",
    "6. Region: Residential area of the beneficiary in the U.S.\n",
    "7. Charges: individual medical costs billed by the insurance"
   ]
  },
  {
   "attachments": {},
   "cell_type": "markdown",
   "metadata": {},
   "source": [
    "Here is an example of the top 10 rows in the data set:"
   ]
  },
  {
   "cell_type": "markdown",
   "metadata": {},
   "source": []
  },
  {
   "attachments": {},
   "cell_type": "markdown",
   "metadata": {},
   "source": [
    "hello world\n"
   ]
  }
 ],
 "metadata": {
  "kernelspec": {
   "display_name": "base",
   "language": "python",
   "name": "python3"
  },
  "language_info": {
   "name": "python",
   "version": "3.9.13"
  },
  "orig_nbformat": 4
 },
 "nbformat": 4,
 "nbformat_minor": 2
}

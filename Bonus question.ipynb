{
 "cells": [
  {
   "attachments": {},
   "cell_type": "markdown",
   "metadata": {},
   "source": [
    "### Bonus question"
   ]
  },
  {
   "attachments": {},
   "cell_type": "markdown",
   "metadata": {},
   "source": [
    "#### Problem 2: (Bonus) [10 pts] Theory\n",
    "(A) [5 Pts] Effects of correlation in bagging.\n",
    "In the analysis of bagging, the m bootstrapped datasets drawn from pD\n",
    "are not independent and we anticipated that we don’t get the 1/m variance\n",
    "reduction in the predictions. Show that if the sampled individual predictions\n",
    "yi have variance σ2 (assuming σ2 > 0 ) and correlation coefficient ρ\n",
    "among each other, then"
   ]
  }
 ],
 "metadata": {
  "language_info": {
   "name": "python"
  },
  "orig_nbformat": 4
 },
 "nbformat": 4,
 "nbformat_minor": 2
}

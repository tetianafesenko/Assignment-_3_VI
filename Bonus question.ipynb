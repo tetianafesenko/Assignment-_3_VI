{
 "cells": [
  {
   "attachments": {},
   "cell_type": "markdown",
   "metadata": {},
   "source": [
    "### Bonus question"
   ]
  },
  {
   "attachments": {},
   "cell_type": "markdown",
   "metadata": {},
   "source": [
    "#### Problem 2: (Bonus) [10 pts] Theory\n",
    "(A) [5 Pts] Effects of correlation in bagging. In the analysis of bagging, the m bootstrapped datasets drawn from are not independent and we anticipated that we don’t get the 1/m variance reduction in the predictions. Show that if the sampled individual predictions yi have variance σ2 (assuming σ2 > 0 ) and correlation coefficient ρ among each other, then"
   ]
  },
  {
   "cell_type": "markdown",
   "metadata": {},
   "source": []
  }
 ],
 "metadata": {
  "language_info": {
   "name": "python"
  },
  "orig_nbformat": 4
 },
 "nbformat": 4,
 "nbformat_minor": 2
}

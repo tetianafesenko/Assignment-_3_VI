{
 "cells": [
  {
   "attachments": {},
   "cell_type": "markdown",
   "metadata": {},
   "source": [
    "## Caregivers and Machine Learning 2023 \n",
    "#### Homework assignment 3\n",
    "\n",
    "### Problem 1: [25 pts] Conceptual understanding \n",
    "\n",
    "### (A) [5 pts] What is the advantage of using a bagging algorithm like Random Forest over a single Decision Tree? \n",
    "\n",
    "#### Answer: \n",
    "\n",
    "There are a few reasons why using a bagging algorithm like Random Forest has some advantages over using for example a Decision Tree.\n",
    "\n",
    "1. More flexibility. Random Forest is a flexible algorithm with the ability to work with both categorical and continuous features, and can handle different machine learning tasks such as classification and regression problems.\n",
    "2. Accuracy. By combining multiple Decision Trees, Random Forest has the potential to achieve higher predictive accuracy than a single Decision Tree, making it a better choice for many machine learning applications.\n",
    "3. Overfitting prevention. To prevent overfitting, Random Forest constructs several Decision Trees on various subsets of the training data, and randomly selects a subset of features at each split. This strategy mitigates the risk of overfitting that can arise when using a single Decision Tree.\n",
    "4. Handling outliers. Random Forest's randomness in constructing multiple Decision Trees makes it less sensitive to outliers present in the dataset, compared to a single Decision Tree. As a result, it can produce better results on datasets that contain outliers.\n",
    "\n"
   ]
  },
  {
   "cell_type": "markdown",
   "metadata": {},
   "source": []
  },
  {
   "cell_type": "markdown",
   "metadata": {},
   "source": []
  }
 ],
 "metadata": {
  "kernelspec": {
   "display_name": "base",
   "language": "python",
   "name": "python3"
  },
  "language_info": {
   "name": "python",
   "version": "3.9.13"
  },
  "orig_nbformat": 4
 },
 "nbformat": 4,
 "nbformat_minor": 2
}

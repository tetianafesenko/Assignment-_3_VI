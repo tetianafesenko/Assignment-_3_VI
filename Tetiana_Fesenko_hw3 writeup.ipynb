{
 "cells": [
  {
   "attachments": {},
   "cell_type": "markdown",
   "metadata": {},
   "source": [
    "## Caregivers and Machine Learning 2023 \n",
    "#### Homework assignment 3\n",
    "\n",
    "### Problem 1: [25 pts] Conceptual understanding \n",
    "\n",
    "### (A) [5 pts] What is the advantage of using a bagging algorithm like Random Forest over a single Decision Tree? \n",
    "\n",
    "#### Answer: \n",
    "\n",
    "There are a few reasons why using a bagging algorithm like Random Forest has some advantages over using for example a Decision Tree.\n",
    "\n",
    "1. More flexibility. Random Forest is a flexible algorithm with the ability to work with both categorical and continuous features, and can handle different machine learning tasks such as classification and regression problems.\n",
    "2. Accuracy. By combining multiple Decision Trees, Random Forest has the potential to achieve higher predictive accuracy than a single Decision Tree, making it a better choice for many machine learning applications.\n",
    "3. Overfitting prevention. To prevent overfitting, Random Forest constructs several Decision Trees on various subsets of the training data, and randomly selects a subset of features at each split. This strategy mitigates the risk of overfitting that can arise when using a single Decision Tree.\n",
    "4. Handling outliers. Random Forest's randomness in constructing multiple Decision Trees makes it less sensitive to outliers present in the dataset, compared to a single Decision Tree. As a result, it can produce better results on datasets that contain outliers.\n",
    "\n"
   ]
  },
  {
   "attachments": {},
   "cell_type": "markdown",
   "metadata": {},
   "source": [
    "### (B) [5 pts] What is the purpose of a loss function in machine learning? \n"
   ]
  },
  {
   "attachments": {},
   "cell_type": "markdown",
   "metadata": {},
   "source": [
    "#### Answer:"
   ]
  },
  {
   "attachments": {},
   "cell_type": "markdown",
   "metadata": {},
   "source": [
    "The main purpose of a loss function in machine learning is to measure the error between the predicted output and the actual output. It quantifies the penalty incurred by the model for making incorrect predictions.\n",
    "\n",
    "A loss function provides a way to evaluate how well a machine learning algorithm is performing by comparing the predicted output with the actual output. The goal is to minimize the value of the loss function, which can be achieved via optimization.\n",
    "\n",
    "Optimization is adjusting the parameters of the machine learning model to minimize the value of the loss function. This is done by updating the model's parameters until the loss function is minimized.\n",
    "\n",
    "Different types of machine learning problems require different loss functions. For example, in regression problems, the mean squared error (MSE) loss function is commonly used, while in classification problems, cross-entropy loss is often used. Selection of loss function depends on the nature of the problem and the goals of the machine learning projects."
   ]
  },
  {
   "cell_type": "markdown",
   "metadata": {},
   "source": []
  }
 ],
 "metadata": {
  "kernelspec": {
   "display_name": "base",
   "language": "python",
   "name": "python3"
  },
  "language_info": {
   "name": "python",
   "version": "3.9.13"
  },
  "orig_nbformat": 4
 },
 "nbformat": 4,
 "nbformat_minor": 2
}
